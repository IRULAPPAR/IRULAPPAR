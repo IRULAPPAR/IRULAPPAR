import numpy as np
import cv2
import matplotlib.pyplot as plt
from IPython.display import display, clear_output
video_path = "/kaggle/input/carspeed/car.mp4"
cap = cv2.VideoCapture(video_path)
manual_delay = 0.01 # Reduce this value to make the playback faster
while True:
 ret, frame = cap.read()
 if not ret:
 break
 frame_rgb = cv2.cvtColor(frame, cv2.COLOR_BGR2RGB)
 plt.imshow(frame_rgb)
 plt.axis('off') # Hide the axis
 display(plt.gcf())
 clear_output(wait=True)
 plt.pause(manual_delay / 1000.0) # Pause for the manual delay in seconds
 cap.release()
video_path = "/kaggle/input/carspeed/car.mp4"
cap = cv2.VideoCapture(video_path)
backSub = cv2.createBackgroundSubtractorMOG2()
max_frames = 100
manual_delay = 1 
frame_count = 0
while frame_count < max_frames:
ret, frame = cap.read()
 if not ret:
 break
 fgMask = backSub.apply(frame)
 contours, _ = cv2.findContours(fgMask, cv2.RETR_EXTERNAL, 
cv2.CHAIN_APPROX_SIMPLE)
 for contour in contours:
 min_area = 1000
 if cv2.contourArea(contour) > min_area:
 frame_rgb = cv2.cvtColor(frame, cv2.COLOR_BGR2RGB)
 plt.imshow(frame_rgb)
 plt.axis('off')
 display(plt.gcf())
 clear_output(wait=True)
 plt.pause(manual_delay / 1000.0) # Pause for the manual delay in seconds
 frame_count += 1
 cap.release()
